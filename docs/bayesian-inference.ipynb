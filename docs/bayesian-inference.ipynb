{
 "cells": [
  {
   "cell_type": "markdown",
   "metadata": {},
   "source": [
    "Description\n",
    "---------\n",
    "\n",
    "This is an instance of Bayesian inference. Explicitly, we try to do a linear fitting by means of Bayesian inferenace. \n",
    "\n",
    "This instance is a reduced version of the instance in section 1.2.5 in _Bayesian Learning for Neural Networks_.\n",
    "\n",
    "\n",
    "Basics\n",
    "------\n",
    "\n",
    "### Bayes Rule\n",
    "\n",
    "    prob(new_event | old_events) = sum([prob(new_event | parameters) * prob(paramters | old_events)\n",
    "                                        for parameters in all_possible_parameters\n",
    "                                        ])\n",
    "\n",
    "where\n",
    "        \n",
    "    prob(paramters | old_events) = prob(old_events | paramters) * prob(parameters) / prob(old_events)\n",
    "    \n",
    "\n",
    "### Terminality\n",
    "\n",
    "Prior:\n",
    "    \n",
    "    prob(parameters)\n",
    "    \n",
    "Posterior:\n",
    "    \n",
    "    prob(paramters | old_events)\n",
    "    \n",
    "Likelihood:\n",
    "    \n",
    "    prob(old_events | parameters)\n",
    "    \n",
    "\n",
    "### Gaussian Instance\n",
    "\n",
    "If, for any event, there exists some `f: (float -> float)` and some `sigma: float`, s.t.\n",
    "    \n",
    "    prob(element | parameters) = gauss(f(parameters), sigma, element)\n",
    "    \n",
    "then,\n",
    "    \n",
    "    expect(new_event) = sum([f(parameters) * prob(paramters | old_events)\n",
    "                             for parameters in all_possible_parameters\n",
    "                             ])"
   ]
  },
  {
   "cell_type": "code",
   "execution_count": 1,
   "metadata": {
    "collapsed": true
   },
   "outputs": [],
   "source": [
    "import numpy as np\n",
    "import random\n",
    "import matplotlib.pyplot as plt"
   ]
  },
  {
   "cell_type": "code",
   "execution_count": 2,
   "metadata": {
    "collapsed": false
   },
   "outputs": [
    {
     "data": {
      "image/png": "[encoded data removed]",
      "text/plain": [
       "<matplotlib.figure.Figure at 0x10d8bb4e0>"
      ]
     },
     "metadata": {},
     "output_type": "display_data"
    }
   ],
   "source": [
    "a = 0.5\n",
    "b = -1\n",
    "target = lambda x: a * x + b\n",
    "\n",
    "\n",
    "xs = np.arange(0, 10, 1)\n",
    "ys = [target(x) + random.gauss(0, 0.3) for x in xs]\n",
    "\n",
    "plt.plot(xs, ys, '.')\n",
    "plt.plot(xs, [target(x) for x in xs])\n",
    "plt.show()"
   ]
  },
  {
   "cell_type": "code",
   "execution_count": 4,
   "metadata": {
    "collapsed": false
   },
   "outputs": [],
   "source": [
    "def f(parameters, x):\n",
    "    \"\"\" \n",
    "    Args:\n",
    "        parameters: [a: float, b: float]\n",
    "        x: float\n",
    "        \n",
    "    Returns:\n",
    "        float\n",
    "    \"\"\"\n",
    "    a = parameters[0]\n",
    "    b = parameters[1]\n",
    "\n",
    "    return a * x + b\n",
    "\n",
    "\n",
    "def gauss(mu, sigma, x):\n",
    "    \"\"\"\n",
    "    Args:\n",
    "        mu: float\n",
    "        sigma: float\n",
    "        x: float\n",
    "        \n",
    "    Returns:\n",
    "        float\n",
    "    \"\"\"\n",
    "    return np.sqrt(2 * np.pi * sigma) * np.exp((-1/2) * ((x - mu) / sigma) ** 2)\n",
    "\n",
    "\n",
    "def likelihood(ys, parameters, xs, sigma=0.1):\n",
    "    \"\"\"\n",
    "    Args:\n",
    "        ys: [y: float]\n",
    "        parameters: [a: float, b: float]\n",
    "        xs: [x: float]\n",
    "        \n",
    "    Returns: float\n",
    "    \"\"\"\n",
    "    \n",
    "    def single_prob(y, parameters, x):\n",
    "        \"\"\"\n",
    "        Args:\n",
    "            y: float\n",
    "            parameters: [a: float, b: float]\n",
    "            x: float\n",
    "\n",
    "        Returns: float\n",
    "        \"\"\"\n",
    "        return gauss(f(parameters, x), sigma, y)\n",
    "\n",
    "    return np.prod([single_prob(y[i], parameters, x[i])\n",
    "                    for i in range(len(xs))\n",
    "                   ])\n",
    "\n",
    "\n",
    "def prior(parameters):\n",
    "    \"\"\"\n",
    "    Args:\n",
    "        parameters: [a: float, b: float]\n",
    "        \n",
    "    Returns:\n",
    "        float\n",
    "    \"\"\"\n",
    "    return 1\n",
    "\n",
    "\n",
    "\n",
    "\n",
    "def normalize_factor(parameters, ys, xs):\n",
    "    \"\"\"\n",
    "    Args:\n",
    "        paramters: [a: float, b: float]\n",
    "        ys: [y: float]\n",
    "        xs[x: float]\n",
    "        \n",
    "    Returns:\n",
    "        float\n",
    "    \"\"\"\n",
    "    normalize_factor = sum([unnormalized_posterior(parameters, ys, xs)\n",
    "                            for parameters in all_possible_parameters\n",
    "                            ])\n",
    "    \n",
    "\n",
    "def posterior(parameters, ys, xs):\n",
    "    \"\"\"\n",
    "    Args:\n",
    "        paramters: [a: float, b: float]\n",
    "        ys: [y: float]\n",
    "        xs[x: float]\n",
    "        \n",
    "    Returns:\n",
    "        float\n",
    "    \"\"\"\n",
    "    \n",
    "    def unnormalized_posterior(parameters):\n",
    "        return likelihood(ys, parameters, xs) * prior(parameters)\n",
    "    \n",
    "    N = sum([unnormalized_posterior(parameters)\n",
    "            for parameters in all_possible_parameters\n",
    "            ])\n",
    "    normalize_factor = 1 / N\n",
    "    \n",
    "    return normalize_factor * unnormalized_posterior(parameters)\n",
    "\n",
    "\n",
    "def expect(new_x, all_possible_parameters, ys, xs):\n",
    "    \"\"\"\n",
    "    Args:\n",
    "        new_x: float\n",
    "        all_possible_parameters: [parameters: [a: float, b: float]]\n",
    "        ys: [y: float]\n",
    "        xs: [x: float]\n",
    "        \n",
    "    Returns:\n",
    "        float\n",
    "    \"\"\"\n",
    "    \n",
    "    return sum([f(parameters, new_x) * posterior(parameters, ys, xs)\n",
    "                for parameters in all_possible_parameters\n",
    "               ])"
   ]
  },
  {
   "cell_type": "code",
   "execution_count": 6,
   "metadata": {
    "collapsed": true
   },
   "outputs": [],
   "source": [
    "all_possible_parameters = [[a, b] for a in np.arange(-1, 1, 0.1) for b in np.arange(-1, 1, 0.1)]"
   ]
  },
  {
   "cell_type": "code",
   "execution_count": 10,
   "metadata": {
    "collapsed": false
   },
   "outputs": [
    {
     "data": {
      "image/png": "[encoded data removed]",
      "text/plain": [
       "<matplotlib.figure.Figure at 0x1076541d0>"
      ]
     },
     "metadata": {},
     "output_type": "display_data"
    }
   ],
   "source": [
    "new_x = 12\n",
    "expect_y = expect(new_x, all_possible_parameters, ys, xs)\n",
    "\n",
    "\n",
    "plt.plot(xs, ys, '.')\n",
    "plt.plot(np.arange(0, new_x + 1),\n",
    "         [target(x) for x in np.arange(0, new_x + 1)]\n",
    "        )\n",
    "plt.plot([new_x], [expect_y], 'ro')\n",
    "plt.show()"
   ]
  }
 ],
 "metadata": {
  "kernelspec": {
   "display_name": "Python 3",
   "language": "python",
   "name": "python3"
  },
  "language_info": {
   "codemirror_mode": {
    "name": "ipython",
    "version": 3
   },
   "file_extension": ".py",
   "mimetype": "text/x-python",
   "name": "python",
   "nbconvert_exporter": "python",
   "pygments_lexer": "ipython3",
   "version": "3.6.0"
  }
 },
 "nbformat": 4,
 "nbformat_minor": 2
}
