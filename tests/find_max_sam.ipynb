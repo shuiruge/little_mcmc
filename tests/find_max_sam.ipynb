{
 "cells": [
  {
   "cell_type": "code",
   "execution_count": 1,
   "metadata": {
    "collapsed": false
   },
   "outputs": [],
   "source": [
    "import sys\n",
    "sys.path.append('../sample/')\n",
    "from sam import SAM\n",
    "\n",
    "from random import uniform, gauss\n",
    "import numpy as np\n",
    "import matplotlib.pyplot as plt"
   ]
  },
  {
   "cell_type": "code",
   "execution_count": 2,
   "metadata": {
    "collapsed": true
   },
   "outputs": [],
   "source": [
    "def initialize_state(dim):\n",
    "  \n",
    "    return np.array([uniform(-10, 10) for i in range(dim)])"
   ]
  },
  {
   "cell_type": "code",
   "execution_count": 3,
   "metadata": {
    "collapsed": true
   },
   "outputs": [],
   "source": [
    "def N(mu, sigma):\n",
    "    \"\"\" float * float -> ([float] -> float)\n",
    "    \"\"\"\n",
    "    \n",
    "    def result(x):\n",
    "        \n",
    "        x = np.array(x)\n",
    "        \n",
    "        return np.exp(- np.sum(np.square((x - mu) / sigma)))\n",
    "        \n",
    "    return result\n",
    "\n",
    "\n",
    "## Recall SimulatedAnnealing is searching the argmin, instead of argmax.\n",
    "def target_function(x):\n",
    "    \"\"\" [float] -> float\n",
    "    \"\"\"\n",
    "    return 1 * N(-5, 5)(x) + 100 * N(5, 5)(x)\n",
    "\n",
    "def log_target_distribution(T):\n",
    "    \"\"\" float -> ([float] -> float)\n",
    "    \"\"\"\n",
    "    return lambda x: np.log(target_function(x))"
   ]
  },
  {
   "cell_type": "code",
   "execution_count": 4,
   "metadata": {
    "collapsed": false
   },
   "outputs": [],
   "source": [
    "def sampling(iterations, init_step_size, beta, burn_in, dim, T):\n",
    "    \n",
    "    def initialize_state_0():\n",
    "        return initialize_state(dim)\n",
    "    \n",
    "    sam = SAM(iterations,\n",
    "              initialize_state_0,\n",
    "              init_step_size,\n",
    "              beta,\n",
    "              burn_in\n",
    "              )\n",
    "    chain = sam.sampling(log_target_distribution(T))\n",
    "    \n",
    "    return chain, sam"
   ]
  },
  {
   "cell_type": "code",
   "execution_count": 5,
   "metadata": {
    "collapsed": false
   },
   "outputs": [
    {
     "name": "stdout",
     "output_type": "stream",
     "text": [
      "Initial state: [-1.07151131]\n"
     ]
    },
    {
     "name": "stderr",
     "output_type": "stream",
     "text": [
      "/Users/shuiruge/anaconda/lib/python3.6/site-packages/ipykernel/__main__.py:23: RuntimeWarning: divide by zero encountered in log\n"
     ]
    },
    {
     "name": "stdout",
     "output_type": "stream",
     "text": [
      "Accept-ratio: 0.41336\n",
      "Expects: [9.0197340764533873]\n"
     ]
    }
   ],
   "source": [
    "dim = 1\n",
    "\n",
    "## Needs tuning\n",
    "iterations = int(10 ** 4 * 5)\n",
    "burn_in = int(0.5 * iterations)\n",
    "init_step_size = 0.5\n",
    "beta = 2\n",
    "T = 1\n",
    "\n",
    "\n",
    "chain, sam = sampling(iterations, init_step_size, beta, burn_in, dim, T)\n",
    "\n",
    "expect = [np.mean([state[axis] for state in chain])\n",
    "          for axis in range(dim)\n",
    "         ]\n",
    "\n",
    "print('Expects: {0}'.format(expect))"
   ]
  },
  {
   "cell_type": "code",
   "execution_count": 6,
   "metadata": {
    "collapsed": false
   },
   "outputs": [
    {
     "data": {
      "image/png": "[encoded data removed]",
      "text/plain": [
       "<matplotlib.figure.Figure at 0x103ef47f0>"
      ]
     },
     "metadata": {},
     "output_type": "display_data"
    },
    {
     "data": {
      "image/png": "[encoded data removed]",
      "text/plain": [
       "<matplotlib.figure.Figure at 0x103f98940>"
      ]
     },
     "metadata": {},
     "output_type": "display_data"
    }
   ],
   "source": [
    "steps = np.arange(len(chain))\n",
    "targets = [target_function(state) for state in chain]\n",
    "\n",
    "\n",
    "plt.plot(steps, targets)\n",
    "plt.xlabel('step')\n",
    "plt.ylabel('target value')\n",
    "plt.show()\n",
    "\n",
    "\n",
    "for axis in range(dim):\n",
    "    \n",
    "    xs = [state[axis] for state in chain]\n",
    "\n",
    "    plt.plot(steps, xs)\n",
    "    plt.xlabel('step')\n",
    "    plt.ylabel('x[{0}]'.format(axis))\n",
    "    plt.show()"
   ]
  },
  {
   "cell_type": "code",
   "execution_count": 7,
   "metadata": {
    "collapsed": false
   },
   "outputs": [
    {
     "data": {
      "image/png": "[encoded data removed]",
      "text/plain": [
       "<matplotlib.figure.Figure at 0x1027f0c18>"
      ]
     },
     "metadata": {},
     "output_type": "display_data"
    }
   ],
   "source": [
    "plt.plot(sam.step_size_list)\n",
    "plt.show()"
   ]
  },
  {
   "cell_type": "markdown",
   "metadata": {},
   "source": [
    "Splendid, even for `dim = 10`."
   ]
  }
 ],
 "metadata": {
  "kernelspec": {
   "display_name": "Python 3",
   "language": "python",
   "name": "python3"
  },
  "language_info": {
   "codemirror_mode": {
    "name": "ipython",
    "version": 3
   },
   "file_extension": ".py",
   "mimetype": "text/x-python",
   "name": "python",
   "nbconvert_exporter": "python",
   "pygments_lexer": "ipython3",
   "version": "3.6.0"
  }
 },
 "nbformat": 4,
 "nbformat_minor": 2
}
